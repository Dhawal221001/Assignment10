{
 "cells": [
  {
   "cell_type": "markdown",
   "id": "e16c25ec-e8b2-4caa-8f20-07fa655f78c6",
   "metadata": {},
   "source": [
    "## Q1. Which function is used to open a file? What are the different modes of opening a file? Explain each mode of file opening."
   ]
  },
  {
   "cell_type": "markdown",
   "id": "d81265cc-bf41-4a14-b0c7-f30bfa9bbbc1",
   "metadata": {},
   "source": [
    "### Open function is used to open a file"
   ]
  },
  {
   "cell_type": "markdown",
   "id": "ea3cd301-b4f1-4ad6-8b3b-7c67fb4ed913",
   "metadata": {},
   "source": [
    "### Different modes of opening a file\n",
    "### 'r'- open for reading\n",
    "### 'w'-open for writing, truncating the file first\n",
    "### 'x'-open a new file first and open it for writing\n",
    "### 'a'-open for writing and appending to end of the file if it exist\n",
    "### 'b'-binary mode\n",
    "### 't'-text mode\n",
    "### '+'-open for reading and writing\n",
    "### 'U'-universal newline mode"
   ]
  },
  {
   "cell_type": "markdown",
   "id": "f472a356-3b3d-403a-a8bf-13aaf1cd7885",
   "metadata": {},
   "source": [
    "## Q2. Why close() function is used? Why is it important to close a file?"
   ]
  },
  {
   "cell_type": "markdown",
   "id": "1a726efd-94f9-420c-91e0-525c1dab0638",
   "metadata": {},
   "source": [
    "### close() function is used terminate the transaction with file system.\n",
    "\n",
    "### It is important to close files because sometimes kernel doesnot close the file and it may leads the file to garbage.\n",
    "### And it also slowdown the system, as many files are open at same time."
   ]
  },
  {
   "cell_type": "markdown",
   "id": "599af026-d522-42a3-b446-3136a2f165aa",
   "metadata": {},
   "source": [
    "## Q3. Write a python program to create a text file. Write ‘I want to become a Data Scientist’ in that file. Then close the file. Open this file and read the content of the file."
   ]
  },
  {
   "cell_type": "code",
   "execution_count": 1,
   "id": "7f4f371b-ee73-4ba4-a1ee-b9ffe9b4d57d",
   "metadata": {},
   "outputs": [
    {
     "data": {
      "text/plain": [
       "33"
      ]
     },
     "execution_count": 1,
     "metadata": {},
     "output_type": "execute_result"
    }
   ],
   "source": [
    "file1=open(\"dhawal.text\",'w')\n",
    "file1.write(\"I want to become a Data Scientist\")"
   ]
  },
  {
   "cell_type": "code",
   "execution_count": 2,
   "id": "ed798220-0b46-4e76-bc84-bae05333574e",
   "metadata": {},
   "outputs": [],
   "source": [
    "file1.close()"
   ]
  },
  {
   "cell_type": "code",
   "execution_count": 7,
   "id": "5afbc7dc-1413-4375-a05b-49595c3ed413",
   "metadata": {},
   "outputs": [
    {
     "name": "stdout",
     "output_type": "stream",
     "text": [
      "I want to become a Data Scientist\n"
     ]
    }
   ],
   "source": [
    "with open(\"dhawal.text\",'r') as f1:\n",
    "    print(f1.read())\n",
    "    f1.close()"
   ]
  },
  {
   "cell_type": "markdown",
   "id": "d00b49f3-3800-4ba5-8daa-23667a6a44af",
   "metadata": {},
   "source": [
    "## Q4. Explain the following with python code: read(), readline() and readlines()."
   ]
  },
  {
   "cell_type": "code",
   "execution_count": 27,
   "id": "5c0b5a60-ec5d-4911-a18f-af470f838586",
   "metadata": {},
   "outputs": [],
   "source": [
    "with open(\"file2.text\",'w') as f2:\n",
    "    f2.write(\"Hi, I am Dhawal Jain. \\n I am currently joined in DSM course at pwskills \\n Here my mentors are Krish naik and Sidhanshu Kumar\")"
   ]
  },
  {
   "cell_type": "code",
   "execution_count": 39,
   "id": "69e0f8c6-8de6-4694-ba73-7f80a34cf4b3",
   "metadata": {},
   "outputs": [
    {
     "name": "stdout",
     "output_type": "stream",
     "text": [
      "Hi, I am Dhawal Jain. \n",
      " I am currently joined in DSM course at pwskills \n",
      " Here my mentors are Krish naik and Sidhanshu Kumar\n"
     ]
    }
   ],
   "source": [
    "with open(\"file2.text\",'r') as f2:\n",
    "    print(f2.read())\n",
    "    \n",
    "##  It reads the compelte file if not specified.       "
   ]
  },
  {
   "cell_type": "code",
   "execution_count": 42,
   "id": "5aaebe70-eb68-4e78-b972-b3100ac1c23b",
   "metadata": {},
   "outputs": [
    {
     "name": "stdout",
     "output_type": "stream",
     "text": [
      "Hi, I am Dhawal Jain. \n",
      "\n",
      " I am currently joined in DSM course at pwskills \n",
      "\n"
     ]
    }
   ],
   "source": [
    "with open(\"file2.text\",'r') as f2:\n",
    "    print(f2.readline())\n",
    "    print(f2.readline())\n",
    "    \n",
    "## It reads a line of a file even if the specified argument is large. "
   ]
  },
  {
   "cell_type": "code",
   "execution_count": 45,
   "id": "add89eea-4e55-43b5-9d27-24c4d15e94ca",
   "metadata": {},
   "outputs": [
    {
     "name": "stdout",
     "output_type": "stream",
     "text": [
      "['Hi, I am Dhawal Jain. \\n', ' I am currently joined in DSM course at pwskills \\n']\n"
     ]
    }
   ],
   "source": [
    "with open(\"file2.text\",'r') as f2:\n",
    "    print(f2.readlines(44))\n",
    "    \n",
    "## It reads the lines that are in specified argument. And returns them in form of list.   "
   ]
  },
  {
   "cell_type": "markdown",
   "id": "05b030a9-ba58-48ae-b34e-2e6a9a604139",
   "metadata": {},
   "source": [
    "## Q5. Explain why with statement is used with open(). What is the advantage of using with statement and open() together?"
   ]
  },
  {
   "cell_type": "markdown",
   "id": "cccd41b2-4c90-48c3-927d-e9da5fbb1762",
   "metadata": {},
   "source": [
    "## with statement is used because it ensures that we don't leave the file open. Which can further helps in ram management."
   ]
  },
  {
   "cell_type": "markdown",
   "id": "3d36f025-ccb4-4e5b-ab1f-0eea27c4ef62",
   "metadata": {},
   "source": [
    "### Advantages of using with statement and open() together:\n",
    "### 1.Fewer chances of bug due to coding error.\n",
    "### 2.Exceptional handling in case of exception."
   ]
  },
  {
   "cell_type": "markdown",
   "id": "fca286b7-98f7-43e4-8f63-66c8168e5475",
   "metadata": {},
   "source": [
    "## Q6. Explain the write() and writelines() functions. Give a suitable example."
   ]
  },
  {
   "cell_type": "markdown",
   "id": "de65f71c-85d5-47eb-a8d6-0dd33a52f1ab",
   "metadata": {},
   "source": [
    "### write() method takes a string as an argument and write it to the text file.\n",
    "### while, writelines() takes iterable argument containing strings. And each string in different lines"
   ]
  },
  {
   "cell_type": "code",
   "execution_count": 48,
   "id": "57eb00c6-1202-4199-8f80-9053a4fe5c35",
   "metadata": {},
   "outputs": [],
   "source": [
    "with open(\"file3.text\",'w') as f3:\n",
    "    f3.write(\"Hi, I am fine.\")"
   ]
  },
  {
   "cell_type": "code",
   "execution_count": 49,
   "id": "24bc184a-e500-45e2-b50f-dd0eba9ea3d0",
   "metadata": {},
   "outputs": [],
   "source": [
    "with open(\"file4.text\",'w') as f4:\n",
    "    f4.writelines(['Hi, I am fine.','What about you?'])"
   ]
  },
  {
   "cell_type": "code",
   "execution_count": null,
   "id": "69b713ef-c477-46ba-a9fb-1f75598faca1",
   "metadata": {},
   "outputs": [],
   "source": []
  }
 ],
 "metadata": {
  "kernelspec": {
   "display_name": "Python 3 (ipykernel)",
   "language": "python",
   "name": "python3"
  },
  "language_info": {
   "codemirror_mode": {
    "name": "ipython",
    "version": 3
   },
   "file_extension": ".py",
   "mimetype": "text/x-python",
   "name": "python",
   "nbconvert_exporter": "python",
   "pygments_lexer": "ipython3",
   "version": "3.10.8"
  }
 },
 "nbformat": 4,
 "nbformat_minor": 5
}
